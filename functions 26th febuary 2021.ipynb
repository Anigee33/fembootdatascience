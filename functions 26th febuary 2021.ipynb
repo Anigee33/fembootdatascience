{
 "cells": [
  {
   "cell_type": "markdown",
   "metadata": {},
   "source": [
    "##### 81\n",
    "def hypotenusCal(side1,side2):\n",
    "    hypotenus= side1*side1 + side2*side2\n",
    "    return hypotenus\n",
    "a= float(input('Enter value of side 1: '))\n",
    "b= float(input('Enter value of side 2'))\n",
    "hypotenusCal(a,b)"
   ]
  },
  {
   "cell_type": "code",
   "execution_count": 1,
   "metadata": {},
   "outputs": [
    {
     "name": "stdout",
     "output_type": "stream",
     "text": [
      "Please enter distance in kilometers:.28\n",
      "4.5\n"
     ]
    }
   ],
   "source": [
    "# 82\n",
    "def fareTotal(n):\n",
    "    cMeters=(n*1000)#converts from km to meters\n",
    "    \n",
    "    i=cMeters/140 #gives the number of 140m in users distance\n",
    "    \n",
    "    fare=4+(i*0.25)\n",
    "    if n<0.14:\n",
    "        print(4)\n",
    "    else:\n",
    "        print(round(fare,2))\n",
    "distance=float(input('Please enter distance in kilometers:'))#gets input from user\n",
    "total=fareTotal(distance)#calculates fare using users input"
   ]
  }
 ],
 "metadata": {
  "kernelspec": {
   "display_name": "Python 3",
   "language": "python",
   "name": "python3"
  },
  "language_info": {
   "codemirror_mode": {
    "name": "ipython",
    "version": 3
   },
   "file_extension": ".py",
   "mimetype": "text/x-python",
   "name": "python",
   "nbconvert_exporter": "python",
   "pygments_lexer": "ipython3",
   "version": "3.8.3"
  }
 },
 "nbformat": 4,
 "nbformat_minor": 4
}
