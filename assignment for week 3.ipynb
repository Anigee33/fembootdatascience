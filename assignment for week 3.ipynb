{
 "cells": [
  {
   "cell_type": "code",
   "execution_count": 2,
   "metadata": {},
   "outputs": [
    {
     "name": "stdout",
     "output_type": "stream",
     "text": [
      "2\n"
     ]
    }
   ],
   "source": [
    "#1\n",
    "def age(a,b):\n",
    "    if a>b:\n",
    "        print(b)\n",
    "    else:\n",
    "        print(a)\n",
    "age(10,2)"
   ]
  },
  {
   "cell_type": "code",
   "execution_count": 15,
   "metadata": {},
   "outputs": [
    {
     "name": "stdout",
     "output_type": "stream",
     "text": [
      "False\n"
     ]
    }
   ],
   "source": [
    "#2\n",
    "def nameLength(name):\n",
    "    len(name)\n",
    "    if len(name)>=5:\n",
    "        print('True')\n",
    "    else:\n",
    "        print('False')\n",
    "nameLength('Lins')"
   ]
  },
  {
   "cell_type": "code",
   "execution_count": 5,
   "metadata": {},
   "outputs": [
    {
     "name": "stdout",
     "output_type": "stream",
     "text": [
      "13.5\n"
     ]
    }
   ],
   "source": [
    "#3\n",
    "def lengthFour(a,b,c,d):\n",
    "    avg=(a+b+c+d)/4\n",
    "    print(avg)\n",
    "lengthFour(12,13,14,15)"
   ]
  },
  {
   "cell_type": "code",
   "execution_count": 13,
   "metadata": {},
   "outputs": [
    {
     "name": "stdout",
     "output_type": "stream",
     "text": [
      "Moderate\n"
     ]
    }
   ],
   "source": [
    "#4\n",
    "def passwordStrength(Password):\n",
    "    if len(Password)>=15:\n",
    "        print('Strong')\n",
    "    elif len (Password)>=8:\n",
    "        print('Moderate')\n",
    "    else:\n",
    "        print('weak')\n",
    "passwordStrength('asgard42')"
   ]
  },
  {
   "cell_type": "code",
   "execution_count": null,
   "metadata": {},
   "outputs": [],
   "source": []
  }
 ],
 "metadata": {
  "kernelspec": {
   "display_name": "Python 3",
   "language": "python",
   "name": "python3"
  },
  "language_info": {
   "codemirror_mode": {
    "name": "ipython",
    "version": 3
   },
   "file_extension": ".py",
   "mimetype": "text/x-python",
   "name": "python",
   "nbconvert_exporter": "python",
   "pygments_lexer": "ipython3",
   "version": "3.8.3"
  }
 },
 "nbformat": 4,
 "nbformat_minor": 4
}
