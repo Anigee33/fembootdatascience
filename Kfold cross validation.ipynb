{
 "cells": [
  {
   "cell_type": "code",
   "execution_count": 1,
   "metadata": {},
   "outputs": [],
   "source": [
    "import pandas as pd\n",
    "from numpy import mean\n",
    "from numpy import std\n",
    "from sklearn.model_selection import KFold\n",
    "from sklearn.model_selection import cross_val_score\n",
    "from sklearn.linear_model import LogisticRegression"
   ]
  },
  {
   "cell_type": "code",
   "execution_count": 2,
   "metadata": {},
   "outputs": [],
   "source": [
    "df=pd.read_csv('train.csv') #imports dataset\n",
    "\n",
    "df.fillna(method='bfill', inplace=True) #fills missing values\n"
   ]
  },
  {
   "cell_type": "code",
   "execution_count": 3,
   "metadata": {},
   "outputs": [
    {
     "name": "stdout",
     "output_type": "stream",
     "text": [
      "Accuracy: 0.661 (0.036)\n"
     ]
    }
   ],
   "source": [
    "X=df.loc[:,['Age','Fare']]\n",
    "y=df['Survived']\n",
    "\n",
    "cv = KFold(n_splits=10, random_state=1, shuffle=True) #prepares the procedure\n",
    "\n",
    "model=LogisticRegression() #instantiates model\n",
    "\n",
    "scores = cross_val_score(model, X, y, scoring='accuracy', cv=cv, n_jobs=-1) # calculates the score\n",
    "\n",
    "print('Accuracy: %.3f (%.3f)' % (mean(scores), std(scores))) #reports mean performance\n"
   ]
  },
  {
   "cell_type": "code",
   "execution_count": 4,
   "metadata": {},
   "outputs": [
    {
     "name": "stdout",
     "output_type": "stream",
     "text": [
      "Accuracy: 0.660 (0.030)\n"
     ]
    }
   ],
   "source": [
    "cv = KFold(n_splits=5, random_state=1, shuffle=True) #prepares the procedure\n",
    "\n",
    "model=LogisticRegression() #instantiates model\n",
    "\n",
    "scores = cross_val_score(model, X, y, scoring='accuracy', cv=cv, n_jobs=-1) # calculates the score\n",
    "\n",
    "print('Accuracy: %.3f (%.3f)' % (mean(scores), std(scores))) #reports mean performance\n"
   ]
  }
 ],
 "metadata": {
  "kernelspec": {
   "display_name": "Python 3",
   "language": "python",
   "name": "python3"
  },
  "language_info": {
   "codemirror_mode": {
    "name": "ipython",
    "version": 3
   },
   "file_extension": ".py",
   "mimetype": "text/x-python",
   "name": "python",
   "nbconvert_exporter": "python",
   "pygments_lexer": "ipython3",
   "version": "3.8.5"
  }
 },
 "nbformat": 4,
 "nbformat_minor": 4
}
