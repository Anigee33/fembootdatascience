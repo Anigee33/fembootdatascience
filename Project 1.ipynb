{
 "cells": [
  {
   "cell_type": "markdown",
   "metadata": {},
   "source": [
    "#### I. Considering the simple mathematical formular\n",
    "\n",
    "$$y = x^3 + \\sin(x)$$\n",
    "\n",
    "* Using numpy, generate 20 random values between 0 and 1 for the values of x i.e $x \\in [0, 1]$\n",
    "* Write a function for the formular and generate the corresponding values of $y$ for the generated $x$-values above\n",
    "* Visualize the plot of the given equation with the generated values\n",
    "\n",
    "Note: Set the numpy random seed to 10"
   ]
  },
  {
   "cell_type": "code",
   "execution_count": 1,
   "metadata": {},
   "outputs": [],
   "source": [
    "import numpy as np\n",
    "import matplotlib.pyplot as plt"
   ]
  },
  {
   "cell_type": "code",
   "execution_count": 2,
   "metadata": {},
   "outputs": [
    {
     "data": {
      "text/plain": [
       "array([0.77132064, 0.02075195, 0.63364823, 0.74880388, 0.49850701,\n",
       "       0.22479665, 0.19806286, 0.76053071, 0.16911084, 0.08833981,\n",
       "       0.68535982, 0.95339335, 0.00394827, 0.51219226, 0.81262096,\n",
       "       0.61252607, 0.72175532, 0.29187607, 0.91777412, 0.71457578])"
      ]
     },
     "execution_count": 2,
     "metadata": {},
     "output_type": "execute_result"
    }
   ],
   "source": [
    "np.random.seed(10)\n",
    "a=np.random.rand(20)\n",
    "a"
   ]
  },
  {
   "cell_type": "code",
   "execution_count": 3,
   "metadata": {},
   "outputs": [
    {
     "data": {
      "text/plain": [
       "[array([1.15596879, 0.0207594 , 0.84650486, 1.10062286, 0.60199838,\n",
       "        0.2342679 , 0.20454023, 1.12920229, 0.17314225, 0.08891436,\n",
       "        0.95487752, 1.68198001, 0.00394832, 0.62445834, 1.26270838,\n",
       "        0.80474866, 1.03668784, 0.31261485, 1.56730088, 1.02017269])]"
      ]
     },
     "execution_count": 3,
     "metadata": {},
     "output_type": "execute_result"
    }
   ],
   "source": [
    "z=[]\n",
    "def f(n):\n",
    "    z.append(n**3+np.sin(n))\n",
    "    return z\n",
    "f(a)"
   ]
  },
  {
   "cell_type": "code",
   "execution_count": 4,
   "metadata": {},
   "outputs": [
    {
     "data": {
      "text/plain": [
       "array([1.16, 0.02, 0.85, 1.1 , 0.6 , 0.23, 0.2 , 1.13, 0.17, 0.09, 0.95,\n",
       "       1.68, 0.  , 0.62, 1.26, 0.8 , 1.04, 0.31, 1.57, 1.02])"
      ]
     },
     "execution_count": 4,
     "metadata": {},
     "output_type": "execute_result"
    }
   ],
   "source": [
    "# Rounds to 2 dp and converts list to a 1 dimensional array\n",
    "\n",
    "b= np.round(z,2)\n",
    "b= b.reshape(20,)\n",
    "b"
   ]
  },
  {
   "cell_type": "code",
   "execution_count": 5,
   "metadata": {},
   "outputs": [
    {
     "data": {
      "image/png": "[encoded data removed]",
      "text/plain": [
       "<Figure size 432x288 with 1 Axes>"
      ]
     },
     "metadata": {
      "needs_background": "light"
     },
     "output_type": "display_data"
    }
   ],
   "source": [
    "plt.plot(a,b)\n",
    "plt.grid()"
   ]
  },
  {
   "cell_type": "markdown",
   "metadata": {},
   "source": [
    "# 2"
   ]
  },
  {
   "cell_type": "markdown",
   "metadata": {},
   "source": [
    "#### II. Swarm Behaviour Research Case Study\n",
    "\n",
    "The SwarmyAI Hub is currently engaged in research studies to investigate behavioural pattern of swarms in their habitat. A typical swarm exhibit a **\"flocking\"** or **\"non-flocking\"** pattern in their movement from one place to another. In addition to this individual movement style, while in a group, in their movement pattern may be aligned or not.\n",
    "\n",
    "As urgency demands in Swarmy's next publication, the hub requires your service as a ML Engineer to develop predictive model to determine to the movement pattern of some swarms that are yet to be categorised based on their ***flocking or non-flocking movement pattern only***. You have been provided with previously categorized and yet to dataset of the swarm movement pattern. Based on this, you are require to:-\n",
    " * perform descriptive statistics, EDA and data preprocessing (if needed)\n",
    " * build a baseline (simple) model\n",
    " * explore II other hyperparameterized models\n",
    " * evaluate the performance of your best model on the test dataset using appropriate metric\n",
    " * visualize and interprete the confusion matrix of your class label prediction on the test dataset\n",
    "\n",
    " \n",
    " \n",
    "Dataset Attribute Information: The attributes are xm, ym as the (X,Y) position of each boid, xVeln, yVeln as the velocity vector, xAm, yAm as the alignment vector, xSm, ySm as the separation vector, xCm, yCm as the cohesion vector, nACm as the number of boids in the radius of Alignment/Cohesion, and nSm as the number of boids in the radius of Separation. **The class label is 1 - flocking and 0 - non-flocking**"
   ]
  },
  {
   "cell_type": "code",
   "execution_count": 6,
   "metadata": {},
   "outputs": [],
   "source": [
    "import pandas as pd\n",
    "from sklearn.linear_model import LogisticRegression\n",
    "from sklearn.model_selection import train_test_split\n",
    "from sklearn.model_selection import KFold\n",
    "from sklearn.model_selection import cross_val_score\n",
    "from sklearn.neighbors import KNeighborsClassifier\n",
    "from numpy import mean\n",
    "from numpy import std"
   ]
  },
  {
   "cell_type": "code",
   "execution_count": 7,
   "metadata": {},
   "outputs": [
    {
     "name": "stderr",
     "output_type": "stream",
     "text": [
      "C:\\Users\\ANIEMA E\\anaconda3\\lib\\site-packages\\IPython\\core\\interactiveshell.py:3146: DtypeWarning: Columns (0) have mixed types.Specify dtype option on import or set low_memory=False.\n",
      "  has_raised = await self.run_ast_nodes(code_ast.body, cell_name,\n"
     ]
    },
    {
     "data": {
      "text/html": [
       "<div>\n",
       "<style scoped>\n",
       "    .dataframe tbody tr th:only-of-type {\n",
       "        vertical-align: middle;\n",
       "    }\n",
       "\n",
       "    .dataframe tbody tr th {\n",
       "        vertical-align: top;\n",
       "    }\n",
       "\n",
       "    .dataframe thead th {\n",
       "        text-align: right;\n",
       "    }\n",
       "</style>\n",
       "<table border=\"1\" class=\"dataframe\">\n",
       "  <thead>\n",
       "    <tr style=\"text-align: right;\">\n",
       "      <th></th>\n",
       "      <th>x1</th>\n",
       "      <th>y1</th>\n",
       "      <th>xVel1</th>\n",
       "      <th>yVel1</th>\n",
       "      <th>xA1</th>\n",
       "      <th>yA1</th>\n",
       "      <th>xS1</th>\n",
       "      <th>yS1</th>\n",
       "      <th>xC1</th>\n",
       "      <th>yC1</th>\n",
       "      <th>...</th>\n",
       "      <th>yVel200</th>\n",
       "      <th>xA200</th>\n",
       "      <th>yA200</th>\n",
       "      <th>xS200</th>\n",
       "      <th>yS200</th>\n",
       "      <th>xC200</th>\n",
       "      <th>yC200</th>\n",
       "      <th>nAC200</th>\n",
       "      <th>nS200</th>\n",
       "      <th>Class</th>\n",
       "    </tr>\n",
       "  </thead>\n",
       "  <tbody>\n",
       "    <tr>\n",
       "      <th>1126</th>\n",
       "      <td>242.09</td>\n",
       "      <td>936.45</td>\n",
       "      <td>1.80</td>\n",
       "      <td>7.11</td>\n",
       "      <td>0.00</td>\n",
       "      <td>0.00</td>\n",
       "      <td>0.00</td>\n",
       "      <td>0.00</td>\n",
       "      <td>0.00</td>\n",
       "      <td>0.00</td>\n",
       "      <td>...</td>\n",
       "      <td>-0.33</td>\n",
       "      <td>0.00</td>\n",
       "      <td>0.00</td>\n",
       "      <td>0.00</td>\n",
       "      <td>0.00</td>\n",
       "      <td>0.00</td>\n",
       "      <td>0.00</td>\n",
       "      <td>3</td>\n",
       "      <td>0</td>\n",
       "      <td>1</td>\n",
       "    </tr>\n",
       "    <tr>\n",
       "      <th>12154</th>\n",
       "      <td>307.56</td>\n",
       "      <td>-982.01</td>\n",
       "      <td>1.24</td>\n",
       "      <td>8.23</td>\n",
       "      <td>-0.22</td>\n",
       "      <td>1.02</td>\n",
       "      <td>0.00</td>\n",
       "      <td>0.00</td>\n",
       "      <td>0.00</td>\n",
       "      <td>0.00</td>\n",
       "      <td>...</td>\n",
       "      <td>11.46</td>\n",
       "      <td>-0.26</td>\n",
       "      <td>1.01</td>\n",
       "      <td>0.00</td>\n",
       "      <td>0.00</td>\n",
       "      <td>0.00</td>\n",
       "      <td>0.00</td>\n",
       "      <td>14</td>\n",
       "      <td>0</td>\n",
       "      <td>1</td>\n",
       "    </tr>\n",
       "    <tr>\n",
       "      <th>17678</th>\n",
       "      <td>1134.89</td>\n",
       "      <td>-417.73</td>\n",
       "      <td>-0.11</td>\n",
       "      <td>-9.08</td>\n",
       "      <td>0.75</td>\n",
       "      <td>-0.66</td>\n",
       "      <td>-1.89</td>\n",
       "      <td>-2.81</td>\n",
       "      <td>2.38</td>\n",
       "      <td>-1.23</td>\n",
       "      <td>...</td>\n",
       "      <td>-13.42</td>\n",
       "      <td>0.82</td>\n",
       "      <td>-0.57</td>\n",
       "      <td>0.07</td>\n",
       "      <td>-1.84</td>\n",
       "      <td>2.66</td>\n",
       "      <td>0.30</td>\n",
       "      <td>102</td>\n",
       "      <td>9</td>\n",
       "      <td>1</td>\n",
       "    </tr>\n",
       "    <tr>\n",
       "      <th>11625</th>\n",
       "      <td>-1126.75</td>\n",
       "      <td>368.13</td>\n",
       "      <td>5.52</td>\n",
       "      <td>10.13</td>\n",
       "      <td>0.00</td>\n",
       "      <td>1.00</td>\n",
       "      <td>0.00</td>\n",
       "      <td>0.00</td>\n",
       "      <td>0.00</td>\n",
       "      <td>0.00</td>\n",
       "      <td>...</td>\n",
       "      <td>7.82</td>\n",
       "      <td>0.00</td>\n",
       "      <td>1.00</td>\n",
       "      <td>-0.36</td>\n",
       "      <td>3.22</td>\n",
       "      <td>0.00</td>\n",
       "      <td>0.00</td>\n",
       "      <td>34</td>\n",
       "      <td>0</td>\n",
       "      <td>0</td>\n",
       "    </tr>\n",
       "    <tr>\n",
       "      <th>14900</th>\n",
       "      <td>407.36</td>\n",
       "      <td>-63.17</td>\n",
       "      <td>-9.94</td>\n",
       "      <td>-4.02</td>\n",
       "      <td>0.00</td>\n",
       "      <td>0.00</td>\n",
       "      <td>0.00</td>\n",
       "      <td>0.00</td>\n",
       "      <td>0.00</td>\n",
       "      <td>0.00</td>\n",
       "      <td>...</td>\n",
       "      <td>-15.43</td>\n",
       "      <td>0.00</td>\n",
       "      <td>0.00</td>\n",
       "      <td>0.00</td>\n",
       "      <td>0.00</td>\n",
       "      <td>0.00</td>\n",
       "      <td>0.00</td>\n",
       "      <td>31</td>\n",
       "      <td>0</td>\n",
       "      <td>0</td>\n",
       "    </tr>\n",
       "    <tr>\n",
       "      <th>...</th>\n",
       "      <td>...</td>\n",
       "      <td>...</td>\n",
       "      <td>...</td>\n",
       "      <td>...</td>\n",
       "      <td>...</td>\n",
       "      <td>...</td>\n",
       "      <td>...</td>\n",
       "      <td>...</td>\n",
       "      <td>...</td>\n",
       "      <td>...</td>\n",
       "      <td>...</td>\n",
       "      <td>...</td>\n",
       "      <td>...</td>\n",
       "      <td>...</td>\n",
       "      <td>...</td>\n",
       "      <td>...</td>\n",
       "      <td>...</td>\n",
       "      <td>...</td>\n",
       "      <td>...</td>\n",
       "      <td>...</td>\n",
       "      <td>...</td>\n",
       "    </tr>\n",
       "    <tr>\n",
       "      <th>11284</th>\n",
       "      <td>-370.63</td>\n",
       "      <td>119.81</td>\n",
       "      <td>-7.15</td>\n",
       "      <td>-2.05</td>\n",
       "      <td>-0.95</td>\n",
       "      <td>-0.30</td>\n",
       "      <td>0.00</td>\n",
       "      <td>0.00</td>\n",
       "      <td>-0.98</td>\n",
       "      <td>-0.20</td>\n",
       "      <td>...</td>\n",
       "      <td>1.93</td>\n",
       "      <td>-0.96</td>\n",
       "      <td>0.27</td>\n",
       "      <td>0.00</td>\n",
       "      <td>0.00</td>\n",
       "      <td>-0.96</td>\n",
       "      <td>0.27</td>\n",
       "      <td>1</td>\n",
       "      <td>0</td>\n",
       "      <td>1</td>\n",
       "    </tr>\n",
       "    <tr>\n",
       "      <th>11964</th>\n",
       "      <td>1003.81</td>\n",
       "      <td>365.05</td>\n",
       "      <td>2.39</td>\n",
       "      <td>-4.52</td>\n",
       "      <td>-0.01</td>\n",
       "      <td>-0.10</td>\n",
       "      <td>0.00</td>\n",
       "      <td>0.00</td>\n",
       "      <td>0.26</td>\n",
       "      <td>-0.19</td>\n",
       "      <td>...</td>\n",
       "      <td>-2.96</td>\n",
       "      <td>0.01</td>\n",
       "      <td>-0.03</td>\n",
       "      <td>0.00</td>\n",
       "      <td>0.00</td>\n",
       "      <td>0.00</td>\n",
       "      <td>0.00</td>\n",
       "      <td>4</td>\n",
       "      <td>1</td>\n",
       "      <td>0</td>\n",
       "    </tr>\n",
       "    <tr>\n",
       "      <th>5390</th>\n",
       "      <td>-463.52</td>\n",
       "      <td>-671.07</td>\n",
       "      <td>-1.26</td>\n",
       "      <td>-1.85</td>\n",
       "      <td>0.00</td>\n",
       "      <td>0.00</td>\n",
       "      <td>0.37</td>\n",
       "      <td>0.24</td>\n",
       "      <td>-0.94</td>\n",
       "      <td>-0.34</td>\n",
       "      <td>...</td>\n",
       "      <td>-2.24</td>\n",
       "      <td>0.00</td>\n",
       "      <td>0.00</td>\n",
       "      <td>0.14</td>\n",
       "      <td>-0.42</td>\n",
       "      <td>-0.28</td>\n",
       "      <td>0.96</td>\n",
       "      <td>112</td>\n",
       "      <td>35</td>\n",
       "      <td>1</td>\n",
       "    </tr>\n",
       "    <tr>\n",
       "      <th>860</th>\n",
       "      <td>538.13</td>\n",
       "      <td>-557.30</td>\n",
       "      <td>4.66</td>\n",
       "      <td>-12.75</td>\n",
       "      <td>-1.00</td>\n",
       "      <td>-1.00</td>\n",
       "      <td>0.00</td>\n",
       "      <td>0.00</td>\n",
       "      <td>0.00</td>\n",
       "      <td>0.00</td>\n",
       "      <td>...</td>\n",
       "      <td>5.20</td>\n",
       "      <td>-1.00</td>\n",
       "      <td>0.00</td>\n",
       "      <td>-12.87</td>\n",
       "      <td>9.50</td>\n",
       "      <td>0.00</td>\n",
       "      <td>0.00</td>\n",
       "      <td>11</td>\n",
       "      <td>0</td>\n",
       "      <td>0</td>\n",
       "    </tr>\n",
       "    <tr>\n",
       "      <th>15795</th>\n",
       "      <td>1170.19</td>\n",
       "      <td>828.88</td>\n",
       "      <td>-0.98</td>\n",
       "      <td>-4.18</td>\n",
       "      <td>-0.18</td>\n",
       "      <td>-0.39</td>\n",
       "      <td>0.00</td>\n",
       "      <td>0.00</td>\n",
       "      <td>-0.20</td>\n",
       "      <td>-0.20</td>\n",
       "      <td>...</td>\n",
       "      <td>-7.23</td>\n",
       "      <td>-0.05</td>\n",
       "      <td>-0.40</td>\n",
       "      <td>0.00</td>\n",
       "      <td>0.00</td>\n",
       "      <td>-0.24</td>\n",
       "      <td>0.14</td>\n",
       "      <td>102</td>\n",
       "      <td>0</td>\n",
       "      <td>0</td>\n",
       "    </tr>\n",
       "  </tbody>\n",
       "</table>\n",
       "<p>12609 rows × 2401 columns</p>\n",
       "</div>"
      ],
      "text/plain": [
       "            x1      y1  xVel1  yVel1   xA1   yA1   xS1   yS1   xC1   yC1  ...  \\\n",
       "1126    242.09  936.45   1.80   7.11  0.00  0.00  0.00  0.00  0.00  0.00  ...   \n",
       "12154   307.56 -982.01   1.24   8.23 -0.22  1.02  0.00  0.00  0.00  0.00  ...   \n",
       "17678  1134.89 -417.73  -0.11  -9.08  0.75 -0.66 -1.89 -2.81  2.38 -1.23  ...   \n",
       "11625 -1126.75  368.13   5.52  10.13  0.00  1.00  0.00  0.00  0.00  0.00  ...   \n",
       "14900   407.36  -63.17  -9.94  -4.02  0.00  0.00  0.00  0.00  0.00  0.00  ...   \n",
       "...        ...     ...    ...    ...   ...   ...   ...   ...   ...   ...  ...   \n",
       "11284  -370.63  119.81  -7.15  -2.05 -0.95 -0.30  0.00  0.00 -0.98 -0.20  ...   \n",
       "11964  1003.81  365.05   2.39  -4.52 -0.01 -0.10  0.00  0.00  0.26 -0.19  ...   \n",
       "5390   -463.52 -671.07  -1.26  -1.85  0.00  0.00  0.37  0.24 -0.94 -0.34  ...   \n",
       "860     538.13 -557.30   4.66 -12.75 -1.00 -1.00  0.00  0.00  0.00  0.00  ...   \n",
       "15795  1170.19  828.88  -0.98  -4.18 -0.18 -0.39  0.00  0.00 -0.20 -0.20  ...   \n",
       "\n",
       "       yVel200  xA200  yA200  xS200  yS200  xC200  yC200  nAC200  nS200  \\\n",
       "1126     -0.33   0.00   0.00   0.00   0.00   0.00   0.00       3      0   \n",
       "12154    11.46  -0.26   1.01   0.00   0.00   0.00   0.00      14      0   \n",
       "17678   -13.42   0.82  -0.57   0.07  -1.84   2.66   0.30     102      9   \n",
       "11625     7.82   0.00   1.00  -0.36   3.22   0.00   0.00      34      0   \n",
       "14900   -15.43   0.00   0.00   0.00   0.00   0.00   0.00      31      0   \n",
       "...        ...    ...    ...    ...    ...    ...    ...     ...    ...   \n",
       "11284     1.93  -0.96   0.27   0.00   0.00  -0.96   0.27       1      0   \n",
       "11964    -2.96   0.01  -0.03   0.00   0.00   0.00   0.00       4      1   \n",
       "5390     -2.24   0.00   0.00   0.14  -0.42  -0.28   0.96     112     35   \n",
       "860       5.20  -1.00   0.00 -12.87   9.50   0.00   0.00      11      0   \n",
       "15795    -7.23  -0.05  -0.40   0.00   0.00  -0.24   0.14     102      0   \n",
       "\n",
       "       Class   \n",
       "1126        1  \n",
       "12154       1  \n",
       "17678       1  \n",
       "11625       0  \n",
       "14900       0  \n",
       "...       ...  \n",
       "11284       1  \n",
       "11964       0  \n",
       "5390        1  \n",
       "860         0  \n",
       "15795       0  \n",
       "\n",
       "[12609 rows x 2401 columns]"
      ]
     },
     "execution_count": 7,
     "metadata": {},
     "output_type": "execute_result"
    }
   ],
   "source": [
    "df1=pd.read_csv(\"../../swarm_train_data.csv\")\n",
    "df2=pd.read_csv(\"../../swarm_test_data.csv\")\n",
    "train_set, test_set = train_test_split(df1, test_size=0.3, random_state=42)\n",
    "train_set"
   ]
  },
  {
   "cell_type": "code",
   "execution_count": 8,
   "metadata": {},
   "outputs": [
    {
     "data": {
      "text/html": [
       "<div>\n",
       "<style scoped>\n",
       "    .dataframe tbody tr th:only-of-type {\n",
       "        vertical-align: middle;\n",
       "    }\n",
       "\n",
       "    .dataframe tbody tr th {\n",
       "        vertical-align: top;\n",
       "    }\n",
       "\n",
       "    .dataframe thead th {\n",
       "        text-align: right;\n",
       "    }\n",
       "</style>\n",
       "<table border=\"1\" class=\"dataframe\">\n",
       "  <thead>\n",
       "    <tr style=\"text-align: right;\">\n",
       "      <th></th>\n",
       "      <th>x1</th>\n",
       "      <th>y1</th>\n",
       "      <th>xVel1</th>\n",
       "      <th>yVel1</th>\n",
       "      <th>xA1</th>\n",
       "      <th>yA1</th>\n",
       "      <th>xS1</th>\n",
       "      <th>yS1</th>\n",
       "      <th>xC1</th>\n",
       "      <th>yC1</th>\n",
       "      <th>...</th>\n",
       "      <th>yVel200</th>\n",
       "      <th>xA200</th>\n",
       "      <th>yA200</th>\n",
       "      <th>xS200</th>\n",
       "      <th>yS200</th>\n",
       "      <th>xC200</th>\n",
       "      <th>yC200</th>\n",
       "      <th>nAC200</th>\n",
       "      <th>nS200</th>\n",
       "      <th>Class</th>\n",
       "    </tr>\n",
       "  </thead>\n",
       "  <tbody>\n",
       "    <tr>\n",
       "      <th>4168</th>\n",
       "      <td>-43.37</td>\n",
       "      <td>125.84</td>\n",
       "      <td>5.21</td>\n",
       "      <td>-9.36</td>\n",
       "      <td>0.00</td>\n",
       "      <td>0.0</td>\n",
       "      <td>0.00</td>\n",
       "      <td>0.00</td>\n",
       "      <td>0.24</td>\n",
       "      <td>-0.21</td>\n",
       "      <td>...</td>\n",
       "      <td>-7.19</td>\n",
       "      <td>0.00</td>\n",
       "      <td>0.0</td>\n",
       "      <td>0.00</td>\n",
       "      <td>0.00</td>\n",
       "      <td>-0.21</td>\n",
       "      <td>-0.24</td>\n",
       "      <td>8</td>\n",
       "      <td>0</td>\n",
       "      <td>0</td>\n",
       "    </tr>\n",
       "    <tr>\n",
       "      <th>10018</th>\n",
       "      <td>1308.78</td>\n",
       "      <td>-128.67</td>\n",
       "      <td>6.20</td>\n",
       "      <td>-7.17</td>\n",
       "      <td>0.00</td>\n",
       "      <td>0.0</td>\n",
       "      <td>0.00</td>\n",
       "      <td>0.00</td>\n",
       "      <td>0.00</td>\n",
       "      <td>0.00</td>\n",
       "      <td>...</td>\n",
       "      <td>-3.43</td>\n",
       "      <td>0.00</td>\n",
       "      <td>0.0</td>\n",
       "      <td>0.00</td>\n",
       "      <td>0.00</td>\n",
       "      <td>0.00</td>\n",
       "      <td>0.00</td>\n",
       "      <td>6</td>\n",
       "      <td>0</td>\n",
       "      <td>0</td>\n",
       "    </tr>\n",
       "    <tr>\n",
       "      <th>4903</th>\n",
       "      <td>928.24</td>\n",
       "      <td>-157.45</td>\n",
       "      <td>-1.20</td>\n",
       "      <td>-7.07</td>\n",
       "      <td>0.00</td>\n",
       "      <td>0.0</td>\n",
       "      <td>0.00</td>\n",
       "      <td>0.00</td>\n",
       "      <td>0.00</td>\n",
       "      <td>0.00</td>\n",
       "      <td>...</td>\n",
       "      <td>-2.33</td>\n",
       "      <td>0.00</td>\n",
       "      <td>0.0</td>\n",
       "      <td>0.00</td>\n",
       "      <td>0.00</td>\n",
       "      <td>0.00</td>\n",
       "      <td>0.00</td>\n",
       "      <td>0</td>\n",
       "      <td>0</td>\n",
       "      <td>0</td>\n",
       "    </tr>\n",
       "    <tr>\n",
       "      <th>5151</th>\n",
       "      <td>-459.53</td>\n",
       "      <td>-662.63</td>\n",
       "      <td>-0.17</td>\n",
       "      <td>-2.02</td>\n",
       "      <td>0.00</td>\n",
       "      <td>0.0</td>\n",
       "      <td>0.29</td>\n",
       "      <td>0.33</td>\n",
       "      <td>-0.83</td>\n",
       "      <td>-0.56</td>\n",
       "      <td>...</td>\n",
       "      <td>-3.08</td>\n",
       "      <td>0.00</td>\n",
       "      <td>0.0</td>\n",
       "      <td>0.31</td>\n",
       "      <td>-0.31</td>\n",
       "      <td>-0.56</td>\n",
       "      <td>0.83</td>\n",
       "      <td>112</td>\n",
       "      <td>50</td>\n",
       "      <td>1</td>\n",
       "    </tr>\n",
       "    <tr>\n",
       "      <th>10610</th>\n",
       "      <td>-79.14</td>\n",
       "      <td>24.15</td>\n",
       "      <td>11.96</td>\n",
       "      <td>-10.14</td>\n",
       "      <td>-1.00</td>\n",
       "      <td>0.0</td>\n",
       "      <td>0.00</td>\n",
       "      <td>0.00</td>\n",
       "      <td>0.00</td>\n",
       "      <td>0.00</td>\n",
       "      <td>...</td>\n",
       "      <td>-7.44</td>\n",
       "      <td>-1.00</td>\n",
       "      <td>-1.0</td>\n",
       "      <td>0.00</td>\n",
       "      <td>0.00</td>\n",
       "      <td>0.00</td>\n",
       "      <td>0.00</td>\n",
       "      <td>11</td>\n",
       "      <td>1</td>\n",
       "      <td>0</td>\n",
       "    </tr>\n",
       "    <tr>\n",
       "      <th>...</th>\n",
       "      <td>...</td>\n",
       "      <td>...</td>\n",
       "      <td>...</td>\n",
       "      <td>...</td>\n",
       "      <td>...</td>\n",
       "      <td>...</td>\n",
       "      <td>...</td>\n",
       "      <td>...</td>\n",
       "      <td>...</td>\n",
       "      <td>...</td>\n",
       "      <td>...</td>\n",
       "      <td>...</td>\n",
       "      <td>...</td>\n",
       "      <td>...</td>\n",
       "      <td>...</td>\n",
       "      <td>...</td>\n",
       "      <td>...</td>\n",
       "      <td>...</td>\n",
       "      <td>...</td>\n",
       "      <td>...</td>\n",
       "      <td>...</td>\n",
       "    </tr>\n",
       "    <tr>\n",
       "      <th>15667</th>\n",
       "      <td>948.24</td>\n",
       "      <td>-712.19</td>\n",
       "      <td>-2.13</td>\n",
       "      <td>-0.86</td>\n",
       "      <td>0.00</td>\n",
       "      <td>0.0</td>\n",
       "      <td>0.00</td>\n",
       "      <td>0.00</td>\n",
       "      <td>0.00</td>\n",
       "      <td>0.00</td>\n",
       "      <td>...</td>\n",
       "      <td>-13.70</td>\n",
       "      <td>0.00</td>\n",
       "      <td>0.0</td>\n",
       "      <td>0.00</td>\n",
       "      <td>0.00</td>\n",
       "      <td>0.00</td>\n",
       "      <td>0.00</td>\n",
       "      <td>18</td>\n",
       "      <td>0</td>\n",
       "      <td>0</td>\n",
       "    </tr>\n",
       "    <tr>\n",
       "      <th>8508</th>\n",
       "      <td>1002.56</td>\n",
       "      <td>-881.16</td>\n",
       "      <td>-0.33</td>\n",
       "      <td>9.06</td>\n",
       "      <td>-0.04</td>\n",
       "      <td>1.0</td>\n",
       "      <td>0.00</td>\n",
       "      <td>0.00</td>\n",
       "      <td>-0.04</td>\n",
       "      <td>1.00</td>\n",
       "      <td>...</td>\n",
       "      <td>7.31</td>\n",
       "      <td>-0.02</td>\n",
       "      <td>1.0</td>\n",
       "      <td>0.00</td>\n",
       "      <td>0.00</td>\n",
       "      <td>-0.02</td>\n",
       "      <td>1.00</td>\n",
       "      <td>14</td>\n",
       "      <td>4</td>\n",
       "      <td>1</td>\n",
       "    </tr>\n",
       "    <tr>\n",
       "      <th>6260</th>\n",
       "      <td>-834.07</td>\n",
       "      <td>-829.71</td>\n",
       "      <td>-18.06</td>\n",
       "      <td>-7.30</td>\n",
       "      <td>0.00</td>\n",
       "      <td>0.0</td>\n",
       "      <td>0.00</td>\n",
       "      <td>0.00</td>\n",
       "      <td>0.00</td>\n",
       "      <td>0.00</td>\n",
       "      <td>...</td>\n",
       "      <td>-13.38</td>\n",
       "      <td>0.00</td>\n",
       "      <td>0.0</td>\n",
       "      <td>0.00</td>\n",
       "      <td>0.00</td>\n",
       "      <td>0.00</td>\n",
       "      <td>0.00</td>\n",
       "      <td>29</td>\n",
       "      <td>0</td>\n",
       "      <td>0</td>\n",
       "    </tr>\n",
       "    <tr>\n",
       "      <th>8358</th>\n",
       "      <td>-1060.11</td>\n",
       "      <td>490.66</td>\n",
       "      <td>-0.15</td>\n",
       "      <td>17.26</td>\n",
       "      <td>0.00</td>\n",
       "      <td>1.0</td>\n",
       "      <td>-0.50</td>\n",
       "      <td>3.20</td>\n",
       "      <td>0.00</td>\n",
       "      <td>0.00</td>\n",
       "      <td>...</td>\n",
       "      <td>15.98</td>\n",
       "      <td>0.00</td>\n",
       "      <td>1.0</td>\n",
       "      <td>0.00</td>\n",
       "      <td>0.00</td>\n",
       "      <td>0.00</td>\n",
       "      <td>0.00</td>\n",
       "      <td>18</td>\n",
       "      <td>0</td>\n",
       "      <td>0</td>\n",
       "    </tr>\n",
       "    <tr>\n",
       "      <th>3297</th>\n",
       "      <td>853.3</td>\n",
       "      <td>-451.86</td>\n",
       "      <td>-3.25</td>\n",
       "      <td>-7.84</td>\n",
       "      <td>0.00</td>\n",
       "      <td>0.0</td>\n",
       "      <td>0.00</td>\n",
       "      <td>0.00</td>\n",
       "      <td>0.00</td>\n",
       "      <td>0.00</td>\n",
       "      <td>...</td>\n",
       "      <td>-3.01</td>\n",
       "      <td>0.00</td>\n",
       "      <td>0.0</td>\n",
       "      <td>0.00</td>\n",
       "      <td>0.00</td>\n",
       "      <td>0.00</td>\n",
       "      <td>0.00</td>\n",
       "      <td>1</td>\n",
       "      <td>1</td>\n",
       "      <td>0</td>\n",
       "    </tr>\n",
       "  </tbody>\n",
       "</table>\n",
       "<p>5404 rows × 2401 columns</p>\n",
       "</div>"
      ],
      "text/plain": [
       "            x1      y1  xVel1  yVel1   xA1  yA1   xS1   yS1   xC1   yC1  ...  \\\n",
       "4168    -43.37  125.84   5.21  -9.36  0.00  0.0  0.00  0.00  0.24 -0.21  ...   \n",
       "10018  1308.78 -128.67   6.20  -7.17  0.00  0.0  0.00  0.00  0.00  0.00  ...   \n",
       "4903    928.24 -157.45  -1.20  -7.07  0.00  0.0  0.00  0.00  0.00  0.00  ...   \n",
       "5151   -459.53 -662.63  -0.17  -2.02  0.00  0.0  0.29  0.33 -0.83 -0.56  ...   \n",
       "10610   -79.14   24.15  11.96 -10.14 -1.00  0.0  0.00  0.00  0.00  0.00  ...   \n",
       "...        ...     ...    ...    ...   ...  ...   ...   ...   ...   ...  ...   \n",
       "15667   948.24 -712.19  -2.13  -0.86  0.00  0.0  0.00  0.00  0.00  0.00  ...   \n",
       "8508   1002.56 -881.16  -0.33   9.06 -0.04  1.0  0.00  0.00 -0.04  1.00  ...   \n",
       "6260   -834.07 -829.71 -18.06  -7.30  0.00  0.0  0.00  0.00  0.00  0.00  ...   \n",
       "8358  -1060.11  490.66  -0.15  17.26  0.00  1.0 -0.50  3.20  0.00  0.00  ...   \n",
       "3297     853.3 -451.86  -3.25  -7.84  0.00  0.0  0.00  0.00  0.00  0.00  ...   \n",
       "\n",
       "       yVel200  xA200  yA200  xS200  yS200  xC200  yC200  nAC200  nS200  \\\n",
       "4168     -7.19   0.00    0.0   0.00   0.00  -0.21  -0.24       8      0   \n",
       "10018    -3.43   0.00    0.0   0.00   0.00   0.00   0.00       6      0   \n",
       "4903     -2.33   0.00    0.0   0.00   0.00   0.00   0.00       0      0   \n",
       "5151     -3.08   0.00    0.0   0.31  -0.31  -0.56   0.83     112     50   \n",
       "10610    -7.44  -1.00   -1.0   0.00   0.00   0.00   0.00      11      1   \n",
       "...        ...    ...    ...    ...    ...    ...    ...     ...    ...   \n",
       "15667   -13.70   0.00    0.0   0.00   0.00   0.00   0.00      18      0   \n",
       "8508      7.31  -0.02    1.0   0.00   0.00  -0.02   1.00      14      4   \n",
       "6260    -13.38   0.00    0.0   0.00   0.00   0.00   0.00      29      0   \n",
       "8358     15.98   0.00    1.0   0.00   0.00   0.00   0.00      18      0   \n",
       "3297     -3.01   0.00    0.0   0.00   0.00   0.00   0.00       1      1   \n",
       "\n",
       "       Class   \n",
       "4168        0  \n",
       "10018       0  \n",
       "4903        0  \n",
       "5151        1  \n",
       "10610       0  \n",
       "...       ...  \n",
       "15667       0  \n",
       "8508        1  \n",
       "6260        0  \n",
       "8358        0  \n",
       "3297        0  \n",
       "\n",
       "[5404 rows x 2401 columns]"
      ]
     },
     "execution_count": 8,
     "metadata": {},
     "output_type": "execute_result"
    }
   ],
   "source": [
    "test_set"
   ]
  },
  {
   "cell_type": "code",
   "execution_count": 9,
   "metadata": {},
   "outputs": [
    {
     "data": {
      "text/plain": [
       "0.6075818859544769"
      ]
     },
     "execution_count": 9,
     "metadata": {},
     "output_type": "execute_result"
    }
   ],
   "source": [
    "# baseline model\n",
    "\n",
    "model1=LogisticRegression()\n",
    "\n",
    "X= train_set.loc[:,\"xVel1\"]\n",
    "X=X.values\n",
    "X=X.reshape(-1,1)\n",
    "y=train_set.iloc[:,-1]\n",
    "model1.fit(X,y)\n",
    "model1.score(X,y)"
   ]
  },
  {
   "cell_type": "code",
   "execution_count": 10,
   "metadata": {},
   "outputs": [
    {
     "data": {
      "text/plain": [
       "0.6918074391307796"
      ]
     },
     "execution_count": 10,
     "metadata": {},
     "output_type": "execute_result"
    }
   ],
   "source": [
    "X1= train_set.loc[:,[\"x3\",\"xVel3\",\"nAC3\",\"nS3\"]]\n",
    "X1=X1.values\n",
    "model1.fit(X1,y)\n",
    "model1.score(X1,y)"
   ]
  },
  {
   "cell_type": "code",
   "execution_count": 11,
   "metadata": {},
   "outputs": [
    {
     "data": {
      "text/plain": [
       "0.86676183678325"
      ]
     },
     "execution_count": 11,
     "metadata": {},
     "output_type": "execute_result"
    }
   ],
   "source": [
    "#first hyperparametized model\n",
    "\n",
    "knn=KNeighborsClassifier(metric='manhattan',p=5,n_neighbors=7)\n",
    "knn.fit(X1,y)\n",
    "knn.score(X1,y)"
   ]
  },
  {
   "cell_type": "code",
   "execution_count": 12,
   "metadata": {},
   "outputs": [],
   "source": [
    "%%capture\n",
    "from sklearn.model_selection import GridSearchCV\n",
    "grid={\"C\":np.logspace(-3,3,7), \"penalty\":[\"l1\",\"l2\"]}\n",
    "model1_cv=GridSearchCV(model1,grid,cv=3)\n",
    "model1_cv.fit(X,y)\n",
    "print(model1_cv.best_params_)"
   ]
  },
  {
   "cell_type": "code",
   "execution_count": 13,
   "metadata": {},
   "outputs": [
    {
     "data": {
      "text/plain": [
       "0.6977555714172416"
      ]
     },
     "execution_count": 13,
     "metadata": {},
     "output_type": "execute_result"
    }
   ],
   "source": [
    "#2nd hyperparametized model(logistic regression) using best parameters from GridSearchCV\n",
    "model2=LogisticRegression(C= 0.01,penalty='l2')\n",
    "model2.fit(X1,y)\n",
    "model2.score(X1,y)"
   ]
  },
  {
   "cell_type": "code",
   "execution_count": 14,
   "metadata": {},
   "outputs": [
    {
     "data": {
      "text/plain": [
       "array([1, 0, 0, ..., 0, 0, 0], dtype=int64)"
      ]
     },
     "execution_count": 14,
     "metadata": {},
     "output_type": "execute_result"
    }
   ],
   "source": [
    "#predict class label of test data set(train test split)\n",
    "\n",
    "X2=test_set.loc[:,['x3','xVel3','nAC3','nS3']]\n",
    "X2=X2.values\n",
    "y_pred=knn.predict(X2)\n",
    "#y_pred=y_pred.reshape(-1,1)\n",
    "y_pred"
   ]
  },
  {
   "cell_type": "code",
   "execution_count": 15,
   "metadata": {},
   "outputs": [
    {
     "name": "stdout",
     "output_type": "stream",
     "text": [
      "Accuracy: 0.794 (0.009)\n"
     ]
    }
   ],
   "source": [
    "#Performance (Accuracy) of my best model\n",
    "\n",
    "\n",
    "cv = KFold(n_splits=10, random_state=1, shuffle=True)\n",
    "scores = cross_val_score(knn, X1, y, scoring='accuracy', cv=cv, n_jobs=-1)\n",
    "print('Accuracy: %.3f (%.3f)' % (mean(scores), std(scores)))"
   ]
  },
  {
   "cell_type": "code",
   "execution_count": 16,
   "metadata": {},
   "outputs": [
    {
     "name": "stdout",
     "output_type": "stream",
     "text": [
      "[[2117  517]\n",
      " [ 584 2186]]\n"
     ]
    }
   ],
   "source": [
    "#confusion matrix\n",
    "\n",
    "from sklearn.metrics import confusion_matrix\n",
    "y_test= test_set.iloc[:,-1]\n",
    "confusion_matrix=confusion_matrix(y_test, y_pred)\n",
    "print(confusion_matrix)"
   ]
  },
  {
   "cell_type": "markdown",
   "metadata": {},
   "source": [
    "#True Positive=2117\n",
    "\n",
    "#True Negative=2186\n",
    "\n",
    "#False Positive=517\n",
    "\n",
    "#False Negative=584"
   ]
  },
  {
   "cell_type": "code",
   "execution_count": 17,
   "metadata": {},
   "outputs": [
    {
     "data": {
      "text/plain": [
       "5404"
      ]
     },
     "execution_count": 17,
     "metadata": {},
     "output_type": "execute_result"
    }
   ],
   "source": [
    "y_test.count()"
   ]
  },
  {
   "cell_type": "code",
   "execution_count": 18,
   "metadata": {},
   "outputs": [
    {
     "data": {
      "text/plain": [
       "array([0, 1, 0, ..., 0, 1, 1], dtype=int64)"
      ]
     },
     "execution_count": 18,
     "metadata": {},
     "output_type": "execute_result"
    }
   ],
   "source": [
    "#predict class label of test data set(df2)\n",
    "\n",
    "X3=df2.loc[:,['x3','xVel3','nAC3','nS3']]\n",
    "X3=X3.values\n",
    "y_pred1=knn.predict(X3)\n",
    "#y_pred1=y_pred1.reshape(-1,1)\n",
    "y_pred1"
   ]
  },
  {
   "cell_type": "code",
   "execution_count": 19,
   "metadata": {},
   "outputs": [
    {
     "data": {
      "text/plain": [
       "1.0"
      ]
     },
     "execution_count": 19,
     "metadata": {},
     "output_type": "execute_result"
    }
   ],
   "source": [
    "from sklearn.tree import DecisionTreeClassifier\n",
    "dtc=DecisionTreeClassifier()\n",
    "dtc.fit(X1,y)\n",
    "dtc.score(X1,y)"
   ]
  },
  {
   "cell_type": "code",
   "execution_count": 20,
   "metadata": {},
   "outputs": [
    {
     "name": "stdout",
     "output_type": "stream",
     "text": [
      "Accuracy: 0.948 (0.004)\n"
     ]
    }
   ],
   "source": [
    "cv = KFold(n_splits=10, random_state=1, shuffle=True)\n",
    "scores = cross_val_score(dtc, X1, y, scoring='accuracy', cv=cv, n_jobs=-1)\n",
    "print('Accuracy: %.3f (%.3f)' % (mean(scores), std(scores)))"
   ]
  }
 ],
 "metadata": {
  "kernelspec": {
   "display_name": "Python 3",
   "language": "python",
   "name": "python3"
  },
  "language_info": {
   "codemirror_mode": {
    "name": "ipython",
    "version": 3
   },
   "file_extension": ".py",
   "mimetype": "text/x-python",
   "name": "python",
   "nbconvert_exporter": "python",
   "pygments_lexer": "ipython3",
   "version": "3.8.5"
  }
 },
 "nbformat": 4,
 "nbformat_minor": 4
}
