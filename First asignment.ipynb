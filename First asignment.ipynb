{
 "cells": [
  {
   "cell_type": "code",
   "execution_count": 1,
   "metadata": {},
   "outputs": [
    {
     "name": "stdout",
     "output_type": "stream",
     "text": [
      "what is the length of the room in meters?4\n",
      "what is the width of the room in meters?6\n",
      "the area ofthe room is 24.0 m^2\n"
     ]
    }
   ],
   "source": [
    "#3\n",
    "length=float(input('what is the length of the room in meters?'))\n",
    "width=float(input('what is the width of the room in meters?'))\n",
    "area=length*width\n",
    "print('the area ofthe room is',area,'m^2')"
   ]
  },
  {
   "cell_type": "code",
   "execution_count": 4,
   "metadata": {},
   "outputs": [
    {
     "name": "stdout",
     "output_type": "stream",
     "text": [
      "length of your field in feets?24\n",
      "width of your field in feets?40\n",
      "the area of your field is 0.02203856749311295 acres\n"
     ]
    }
   ],
   "source": [
    "#4\n",
    "length=float(input('length of your field in feets?'))\n",
    "width=float(input('width of your field in feets?'))\n",
    "area=length*width/43560\n",
    "print('the area of your field is',area,'acres')"
   ]
  },
  {
   "cell_type": "code",
   "execution_count": 17,
   "metadata": {},
   "outputs": [
    {
     "name": "stdout",
     "output_type": "stream",
     "text": [
      "Cans less than or equal to one liter: 3\n",
      "Cans more than one liter: 3\n",
      "your refunds for returning cans will be $ 1.05\n"
     ]
    }
   ],
   "source": [
    "#5\n",
    "size1=float(input('Cans less than or equal to one liter: '))\n",
    "size2=float(input('Cans more than one liter: '))\n",
    "refunds= size1* 0.1 + size2*0.25\n",
    "print('Your refunds for returning all cans will be','$',(round(refunds,2)))\n"
   ]
  },
  {
   "cell_type": "code",
   "execution_count": 23,
   "metadata": {},
   "outputs": [
    {
     "name": "stdout",
     "output_type": "stream",
     "text": [
      "fried rice price= 250.50\n",
      "apple pie price= 50.25\n",
      "drinks = 150\n",
      "cost of meal is 450.75 tax on meal is 33.81 tip is 81.13 your grand total is $ 565.69\n"
     ]
    }
   ],
   "source": [
    "#6\n",
    "a=float(input('fried rice price= '))\n",
    "b=float(input('apple pie price= '))\n",
    "c=float(input('drinks = '))\n",
    "total1=a+b+c\n",
    "tax=total1*0.075\n",
    "tip=total1*0.18\n",
    "grandTotal=total1+tax+tip\n",
    "print('cost of meal is',(round(total1,2)),'tax on meal is',(round(tax,2)), 'tip is', (round(tip,2)), 'your grand total is $',(round(grandTotal,2)))"
   ]
  },
  {
   "cell_type": "code",
   "execution_count": 26,
   "metadata": {},
   "outputs": [
    {
     "name": "stdout",
     "output_type": "stream",
     "text": [
      "Type a number: 23\n",
      "The sum of all integers from 1 to 23 is 276.0\n"
     ]
    }
   ],
   "source": [
    "## 7\n",
    "n=int(input('Type a number: '))\n",
    "sum=((n)*(n+1))/2\n",
    "print('The sum of all integers from 1 to',n,'is',sum)"
   ]
  },
  {
   "cell_type": "code",
   "execution_count": 28,
   "metadata": {},
   "outputs": [
    {
     "name": "stdout",
     "output_type": "stream",
     "text": [
      "Number of widgets = 5\n",
      "Number of gizmos= 3\n",
      "Total weight of your order is 711\n"
     ]
    }
   ],
   "source": [
    "#8\n",
    "widget=int(input('Number of widgets = '))\n",
    "gizmo=int(input('Number of gizmos= '))\n",
    "totalW= widget*75\n",
    "totalG=gizmo*112\n",
    "gTotal= totalW+totalG\n",
    "print('Total weight of your order is', gTotal)"
   ]
  },
  {
   "cell_type": "code",
   "execution_count": 24,
   "metadata": {},
   "outputs": [
    {
     "name": "stdout",
     "output_type": "stream",
     "text": [
      "Your deposit amount is: 105500\n",
      "The amount in your savings account will be 109720.0 , 114108.8 , and 118673.15 at the end of years 1,2 and 3 respectively\n"
     ]
    }
   ],
   "source": [
    "#9\n",
    "a=float(input('Your deposit amount is: '))\n",
    "interest=a* 0.04\n",
    "year1= a+interest\n",
    "year2=year1+(year1* 0.04)\n",
    "year3=year2 +(year2 * 0.04)\n",
    "print('The amount in your savings account will be', (round(year1,2)),',',(round(year2,2)),',', 'and', (round(year3,2)), 'at the end of years 1,2 and 3 respectively')\n",
    "\n"
   ]
  },
  {
   "cell_type": "code",
   "execution_count": 26,
   "metadata": {},
   "outputs": [
    {
     "name": "stdout",
     "output_type": "stream",
     "text": [
      "Type a number: 5\n",
      "Type another number: 2\n",
      "The sum of your numbers =  7\n",
      "The diferrence is: 3\n",
      "The product is: 10\n",
      "when divided, it is: 2.5\n",
      "The remainder is: 1\n",
      "5 raise to power 2 is: 25\n",
      "log to base 10 of 5 is 1.6094379124341003\n"
     ]
    }
   ],
   "source": [
    "#10\n",
    "a=int(input('Type a number: '))\n",
    "b=int(input('Type another number: '))\n",
    "sum=a+b\n",
    "diferrence=a-b\n",
    "product=a*b\n",
    "quotient=a/b\n",
    "mode =a%b\n",
    "c=a**b\n",
    "print('The sum of your numbers = ',sum)\n",
    "print('The diferrence is:', diferrence)\n",
    "print('The product is:', product)\n",
    "print('when divided, it is:',quotient)\n",
    "print('The remainder is:',mode)\n",
    "print(a,'raise to power',b, 'is:',c)\n",
    "import math\n",
    "print('log to base 10 of',a, 'is', math.log(a))"
   ]
  }
 ],
 "metadata": {
  "kernelspec": {
   "display_name": "Python 3",
   "language": "python",
   "name": "python3"
  },
  "language_info": {
   "codemirror_mode": {
    "name": "ipython",
    "version": 3
   },
   "file_extension": ".py",
   "mimetype": "text/x-python",
   "name": "python",
   "nbconvert_exporter": "python",
   "pygments_lexer": "ipython3",
   "version": "3.8.3"
  }
 },
 "nbformat": 4,
 "nbformat_minor": 4
}
