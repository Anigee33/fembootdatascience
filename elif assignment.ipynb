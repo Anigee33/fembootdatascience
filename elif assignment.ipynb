{
 "cells": [
  {
   "cell_type": "code",
   "execution_count": 3,
   "metadata": {},
   "outputs": [
    {
     "name": "stdout",
     "output_type": "stream",
     "text": [
      "Type in your score: 59\n",
      "Not bad,you have a C\n"
     ]
    }
   ],
   "source": [
    "a=int(input('Type in your score: '))\n",
    "if a >=70:\n",
    "    print('Conratulations!,you have an A')\n",
    "elif a>=60:\n",
    "    print(\"You did great! That's a B\")\n",
    "elif a>=50:\n",
    "    print('Not bad,you have a C')\n",
    "elif a>=45:\n",
    "    print('You can do better.thats a D')\n",
    "elif a>=40:\n",
    "    print('Really poor peformance. You got an E')\n",
    "#elif a>=39:\n",
    "   # print(\"You failed!That's an F\")\n",
    "elif a>=0:\n",
    "    print(\"That's an F\")\n",
    "else :\n",
    "    print('try again! lets have your score')\n",
    "    "
   ]
  }
 ],
 "metadata": {
  "kernelspec": {
   "display_name": "Python 3",
   "language": "python",
   "name": "python3"
  },
  "language_info": {
   "codemirror_mode": {
    "name": "ipython",
    "version": 3
   },
   "file_extension": ".py",
   "mimetype": "text/x-python",
   "name": "python",
   "nbconvert_exporter": "python",
   "pygments_lexer": "ipython3",
   "version": "3.8.3"
  }
 },
 "nbformat": 4,
 "nbformat_minor": 4
}
